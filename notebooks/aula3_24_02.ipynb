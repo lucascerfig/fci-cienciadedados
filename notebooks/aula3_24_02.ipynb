{
  "cells": [
    {
      "cell_type": "markdown",
      "metadata": {},
      "source": [
        "# Aula 3 - Limpeza e Preparação de Dados"
      ]
    },
    {
      "cell_type": "markdown",
      "metadata": {},
      "source": [
        "#### Instalação das Bibliotecas"
      ]
    },
    {
      "cell_type": "code",
      "execution_count": null,
      "metadata": {},
      "outputs": [],
      "source": [
        "!pip install pandas matplotlib numpy seaborn"
      ]
    },
    {
      "cell_type": "code",
      "execution_count": 10,
      "metadata": {
        "id": "LnQXizltMzsv"
      },
      "outputs": [],
      "source": [
        "import pandas as pd\n",
        "import matplotlib.pyplot as plt\n",
        "import numpy as np"
      ]
    },
    {
      "cell_type": "markdown",
      "metadata": {
        "id": "9gt6FzwRNCeM"
      },
      "source": [
        "Carregando o dataset do repositório no GitHub"
      ]
    },
    {
      "cell_type": "code",
      "execution_count": 3,
      "metadata": {
        "id": "FVwne8YNLwuA"
      },
      "outputs": [],
      "source": [
        "# URL do arquivo CSV no GitHub\n",
        "url = 'https://raw.githubusercontent.com/lucascerfig/fci-cienciadedados/main/datasets/aula3_vendas_kbelo.csv'\n",
        "\n",
        "# Carregar o dataset para um dataframe\n",
        "df = pd.read_csv(url)"
      ]
    },
    {
      "cell_type": "markdown",
      "metadata": {
        "id": "gdlGEyPGM5Fa"
      },
      "source": [
        "Visualizando as primeiras linhas do dataframe"
      ]
    },
    {
      "cell_type": "code",
      "execution_count": 4,
      "metadata": {
        "colab": {
          "base_uri": "https://localhost:8080/",
          "height": 206
        },
        "id": "pKgxsBvdMtzt",
        "outputId": "41e26aba-f6c6-43d4-dac5-8ab2ef69d99e"
      },
      "outputs": [
        {
          "data": {
            "text/html": [
              "<div>\n",
              "<style scoped>\n",
              "    .dataframe tbody tr th:only-of-type {\n",
              "        vertical-align: middle;\n",
              "    }\n",
              "\n",
              "    .dataframe tbody tr th {\n",
              "        vertical-align: top;\n",
              "    }\n",
              "\n",
              "    .dataframe thead th {\n",
              "        text-align: right;\n",
              "    }\n",
              "</style>\n",
              "<table border=\"1\" class=\"dataframe\">\n",
              "  <thead>\n",
              "    <tr style=\"text-align: right;\">\n",
              "      <th></th>\n",
              "      <th>ID da Transacao</th>\n",
              "      <th>Item</th>\n",
              "      <th>Quantidade</th>\n",
              "      <th>Valor Unitario</th>\n",
              "      <th>Total do Pedido</th>\n",
              "      <th>Forma de Pagamento</th>\n",
              "      <th>Local</th>\n",
              "      <th>Data da Transacao</th>\n",
              "    </tr>\n",
              "  </thead>\n",
              "  <tbody>\n",
              "    <tr>\n",
              "      <th>0</th>\n",
              "      <td>TXN_1961373</td>\n",
              "      <td>PastelDoce</td>\n",
              "      <td>2</td>\n",
              "      <td>12.0</td>\n",
              "      <td>24.0</td>\n",
              "      <td>Credito</td>\n",
              "      <td>Viagem</td>\n",
              "      <td>2023-09-08</td>\n",
              "    </tr>\n",
              "    <tr>\n",
              "      <th>1</th>\n",
              "      <td>TXN_4977031</td>\n",
              "      <td>PastelSalgado</td>\n",
              "      <td>4</td>\n",
              "      <td>13.5</td>\n",
              "      <td>54.0</td>\n",
              "      <td>Dinheiro</td>\n",
              "      <td>NoLocal</td>\n",
              "      <td>2023-05-16</td>\n",
              "    </tr>\n",
              "    <tr>\n",
              "      <th>2</th>\n",
              "      <td>TXN_4271903</td>\n",
              "      <td>Batata</td>\n",
              "      <td>4</td>\n",
              "      <td>10.0</td>\n",
              "      <td>NaN</td>\n",
              "      <td>Credito</td>\n",
              "      <td>NoLocal</td>\n",
              "      <td>2023-07-19</td>\n",
              "    </tr>\n",
              "    <tr>\n",
              "      <th>3</th>\n",
              "      <td>TXN_7034554</td>\n",
              "      <td>DogCompleto</td>\n",
              "      <td>2</td>\n",
              "      <td>15.0</td>\n",
              "      <td>30.0</td>\n",
              "      <td>UNKNOWN</td>\n",
              "      <td>UNKNOWN</td>\n",
              "      <td>2023-04-27</td>\n",
              "    </tr>\n",
              "    <tr>\n",
              "      <th>4</th>\n",
              "      <td>TXN_3160411</td>\n",
              "      <td>PastelDoce</td>\n",
              "      <td>2</td>\n",
              "      <td>12.0</td>\n",
              "      <td>24.0</td>\n",
              "      <td>Pix</td>\n",
              "      <td>NoLocal</td>\n",
              "      <td>2023-06-11</td>\n",
              "    </tr>\n",
              "  </tbody>\n",
              "</table>\n",
              "</div>"
            ],
            "text/plain": [
              "  ID da Transacao           Item Quantidade Valor Unitario Total do Pedido  \\\n",
              "0     TXN_1961373     PastelDoce          2           12.0            24.0   \n",
              "1     TXN_4977031  PastelSalgado          4           13.5            54.0   \n",
              "2     TXN_4271903         Batata          4           10.0             NaN   \n",
              "3     TXN_7034554    DogCompleto          2           15.0            30.0   \n",
              "4     TXN_3160411     PastelDoce          2           12.0            24.0   \n",
              "\n",
              "  Forma de Pagamento    Local Data da Transacao  \n",
              "0            Credito   Viagem        2023-09-08  \n",
              "1           Dinheiro  NoLocal        2023-05-16  \n",
              "2            Credito  NoLocal        2023-07-19  \n",
              "3            UNKNOWN  UNKNOWN        2023-04-27  \n",
              "4                Pix  NoLocal        2023-06-11  "
            ]
          },
          "execution_count": 4,
          "metadata": {},
          "output_type": "execute_result"
        }
      ],
      "source": [
        "df.head()"
      ]
    },
    {
      "cell_type": "markdown",
      "metadata": {
        "id": "2uAeLEy4NFr9"
      },
      "source": [
        "Logo na visualização dos primeiros itens do dataset já notamos que algumas colunas apresentam valores inesperados (ERROR, UNKNOWN) ou faltantes...\n",
        "\n",
        "Vamos explorar melhor esse dataset para entender com que tipos de problemas estaremos lidando."
      ]
    },
    {
      "cell_type": "code",
      "execution_count": null,
      "metadata": {
        "colab": {
          "base_uri": "https://localhost:8080/"
        },
        "id": "rT-ekQuEM2vn",
        "outputId": "2f39b56c-43d8-4af1-8a29-eaf3df376cc9"
      },
      "outputs": [],
      "source": [
        "df.info()"
      ]
    },
    {
      "cell_type": "markdown",
      "metadata": {
        "id": "iUZwStZiNx2R"
      },
      "source": [
        "A primeira coisa que notamos é que todas as colunas estão com o tipo \"object\", até mesmo as colunas que deveriam ser numéricas como Quantidade, Valor Unitario, Total do Pedido.\n",
        "\n",
        "Para entender os tipos de valores que estão ocorrendo em cada uma das colunas, vamos utilizar do método .value_counts()"
      ]
    },
    {
      "cell_type": "code",
      "execution_count": null,
      "metadata": {
        "colab": {
          "base_uri": "https://localhost:8080/",
          "height": 1000
        },
        "id": "XdKQwWmBVAI0",
        "outputId": "3509c29b-5cba-421c-fa05-9e8695fa6718"
      },
      "outputs": [],
      "source": [
        "for col in df.columns:\n",
        "  print(f\"Value counts para a coluna '{col}':\")\n",
        "  value_counts = df[col].value_counts()\n",
        "  display(value_counts)\n",
        "  print(\"\\n\")"
      ]
    },
    {
      "cell_type": "markdown",
      "metadata": {
        "id": "GilRMfgfWP1E"
      },
      "source": [
        "Com base nas tabelas, podemos ver que existem colunas com valores nulos e tipos de dados com ruído como 'ERROR' ou 'UNKNOWN'.\n",
        "\n",
        "Vamos tratar esses erros, padronizando todos esses casos de ruído para um valor nulo"
      ]
    },
    {
      "cell_type": "code",
      "execution_count": 11,
      "metadata": {},
      "outputs": [],
      "source": [
        "df.replace(['ERROR', 'UNKNOWN'], np.nan, inplace=True)"
      ]
    },
    {
      "cell_type": "code",
      "execution_count": null,
      "metadata": {
        "id": "oTB5WtrDOOWn"
      },
      "outputs": [],
      "source": [
        "# vamos contar novamente quantos valore nulos existem em cada coluna\n",
        "print(\"Valores nulos por coluna:\")\n",
        "display(df.isnull().sum())\n",
        "\n",
        "\n",
        "plt.figure(figsize=(10, 5))\n",
        "df.isnull().sum().plot(kind='bar')\n",
        "plt.title('Quantidade de valores nulos por coluna')\n",
        "plt.show()"
      ]
    },
    {
      "cell_type": "markdown",
      "metadata": {},
      "source": [
        "Agora que padronizamos os casos de 'ERROR' e 'UNKNOWN' como valores faltantes, podemos ajustar o tipo das colunas:"
      ]
    },
    {
      "cell_type": "code",
      "execution_count": null,
      "metadata": {},
      "outputs": [],
      "source": [
        "df['Quantidade'] = pd.to_numeric(df['Quantidade'])\n",
        "df['Valor Unitario'] = pd.to_numeric(df['Valor Unitario'])\n",
        "df['Total do Pedido'] = pd.to_numeric(df['Total do Pedido'])\n",
        "\n",
        "df.info()"
      ]
    },
    {
      "cell_type": "code",
      "execution_count": null,
      "metadata": {},
      "outputs": [],
      "source": [
        "df.head()"
      ]
    },
    {
      "cell_type": "markdown",
      "metadata": {},
      "source": [
        "**Exercício**: Apresente um objetivo de análise desses dados e justifique qual é a melhor maneira de se tratar os valores nulos em cada uma das colunas.\n"
      ]
    },
    {
      "cell_type": "markdown",
      "metadata": {},
      "source": [
        "**Prática**: Implemente a solução de limpeza proposta para cada coluna, após isso desenvolva uma análise do cenário proposto como objetivo de uso desse dataset."
      ]
    },
    {
      "cell_type": "markdown",
      "metadata": {},
      "source": [
        "### Métodos Importantes para Limpeza"
      ]
    },
    {
      "cell_type": "code",
      "execution_count": null,
      "metadata": {},
      "outputs": [],
      "source": [
        "# Ler datasets\n",
        "df = pd.read_csv(\"file.csv\")      \n",
        "df = pd.read_excel(\"file.xlsx\")    \n",
        "df = pd.read_json(\"file.json\")     \n",
        "df = pd.read_sql(query, con)      \n",
        "\n",
        "# Escrever datasets em arquivos\n",
        "df.to_csv(\"file.csv\")\n",
        "df.to_excel(\"file.xlsx\")\n",
        "df.to_json(\"file.json\")\n",
        "\n",
        "# Manipulando dataframes\n",
        "data = {'Name': ['Alice', 'Bob'], 'Age': [25, 30]} \n",
        "df = pd.DataFrame(data)            # Criando um dataframe\n",
        "df = pd.concat([df1, df2])         # concatenando dataframes\n",
        "df = pd.merge(df1, df2, on='key')  # integrando dataframes em uma dada coluna\n",
        "\n",
        "# Vizualizando e inspecionando dados\n",
        "df.head()                          # primeiras 5 linhas\n",
        "df.tail()                          # últimas 5 linhas\n",
        "df.info()                          # resumo do dataframe\n",
        "df.describe()                      # resumo estatístico das colunas numéricas\n",
        "df.shape                           # dimensões do dataframe\n",
        "df.columns                         # lista de colunas do dataframe\n",
        "df.dtypes                          # tipos de dados das colunas\n",
        "df.sample(5)                       # amostragem aleatória de 5 linhas\n",
        "\n",
        "# Selecionando dados\n",
        "df['column']                  # seleciona uma coluna \n",
        "df[['col1', 'col2']]          # seleciona múltiplas colunas\n",
        "df.iloc[row, col]           # seleciona linhas e colunas por índices\n",
        "df.loc[row, col]            # seleciona linhas e colunas por rótulos\n",
        "df[df['column'] > value]    # seleciona linhas baseado em condições\n",
        "df.query('column > value')  # seleciona linhas baseado em condições\n",
        "df.mean()                   # calcula a média de cada coluna\n",
        "df.median()                 # calcula a mediana de cada coluna\n",
        "df.sum()                    # calcula a soma de cada coluna\n",
        "df.min()                    # valores mínimos em cada coluna\n",
        "df.max()                    # valores máximos em cada coluna\n",
        "df.count()                  # contagem de valores não nulos em cada coluna\n",
        "df.groupby('column')        # agrupa dados por uma coluna\n",
        "df.agg({'col1': 'mean', 'col2': 'sum'}) # aplica funções de agregação em colunas específicas\n",
        "\n",
        "# Ordenação\n",
        "df.sort_values(by='column')        # ordena o dataframe por uma coluna\n",
        "df.sort_values(by='column', ascending=False)  # ordena em ordem decrescente\n",
        "df.rank()  # atribui uma classificação a cada valor\n",
        "\n",
        "# Lidando com dados faltantes\n",
        "df.isnull()         # detecta valores faltantes\n",
        "df.notnull()        # detecta valores não faltantes\n",
        "df.dropna()         # remove linhas com valores faltantes\n",
        "df.fillna(value)    # preenche valores faltantes com um valor específico\n",
        "df.interpolate()    # preenche valores faltantes com base em valores próximos\n",
        "\n",
        "# Operações com strings\n",
        "df['col'].str.lower()              # converte strings para minúsculas\n",
        "df['col'].str.upper()              # converte strings para maiúsculas\n",
        "df['col'].str.strip()              # remove espaços em branco\n",
        "df['col'].str.contains('text')     # verifica se a string contém um texto\n",
        "df['col'].str.replace('old', 'new')  # substitui um texto por outro"
      ]
    }
  ],
  "metadata": {
    "colab": {
      "provenance": []
    },
    "kernelspec": {
      "display_name": "Python 3",
      "name": "python3"
    },
    "language_info": {
      "codemirror_mode": {
        "name": "ipython",
        "version": 3
      },
      "file_extension": ".py",
      "mimetype": "text/x-python",
      "name": "python",
      "nbconvert_exporter": "python",
      "pygments_lexer": "ipython3",
      "version": "3.12.5"
    }
  },
  "nbformat": 4,
  "nbformat_minor": 0
}
